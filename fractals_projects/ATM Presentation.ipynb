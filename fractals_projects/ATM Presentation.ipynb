{
 "cells": [
  {
   "cell_type": "markdown",
   "id": "cdba9d07",
   "metadata": {},
   "source": [
    "### Reg No : 22PHPH07,22PHPH09, 22PHPH19"
   ]
  },
  {
   "cell_type": "markdown",
   "id": "6c2ed07e",
   "metadata": {},
   "source": [
    "#  Generate Cantor set 1D ,2D"
   ]
  },
  {
   "cell_type": "code",
   "execution_count": null,
   "id": "f95a8bc0",
   "metadata": {},
   "outputs": [],
   "source": [
    "import numpy as np\n",
    "import matplotlib.pyplot as plt\n",
    "\n",
    "line = [0,1]\n",
    "depth = 5\n",
    "\n",
    "def divide(line, level=0):\n",
    "    plt.plot(line,[level,level], color=\"k\", lw=5, solid_capstyle=\"butt\")\n",
    "    if level < depth:\n",
    "        s = np.linspace(line[0],line[1],4)\n",
    "        divide(s[:2], level+1)\n",
    "        divide(s[2:], level+1)\n",
    "\n",
    "divide(line)\n",
    "plt.gca().invert_yaxis()\n",
    "plt.show()"
   ]
  },
  {
   "cell_type": "code",
   "execution_count": null,
   "id": "444375d2",
   "metadata": {},
   "outputs": [],
   "source": [
    "import numpy as np\n",
    "import matplotlib.pyplot as plt\n",
    "\n",
    "def sierpinski_carpet(depth):\n",
    "\n",
    "    if depth == 0:\n",
    "        return np.ones((1, 1))\n",
    "\n",
    "    carpet = sierpinski_carpet(depth - 1)\n",
    "    center = np.zeros_like(carpet)\n",
    "    \n",
    "    squares = np.block([[carpet, carpet, carpet],\n",
    "                        [carpet, center, carpet],\n",
    "                        [carpet, carpet, carpet]])\n",
    "\n",
    "    return squares\n",
    "\n",
    "\n",
    "fig, ax = plt.subplots(figsize=(10, 10))\n",
    "\n",
    "ax.set_aspect('equal')\n",
    "ax.set_axis_off()\n",
    "\n",
    "carpet = sierpinski_carpet(depth=5)\n",
    "\n",
    "plt.imshow(carpet, cmap='binary')\n",
    "plt.show()"
   ]
  }
 ],
 "metadata": {
  "kernelspec": {
   "display_name": "Python 3 (ipykernel)",
   "language": "python",
   "name": "python3"
  },
  "language_info": {
   "codemirror_mode": {
    "name": "ipython",
    "version": 3
   },
   "file_extension": ".py",
   "mimetype": "text/x-python",
   "name": "python",
   "nbconvert_exporter": "python",
   "pygments_lexer": "ipython3",
   "version": "3.9.13"
  }
 },
 "nbformat": 4,
 "nbformat_minor": 5
}
