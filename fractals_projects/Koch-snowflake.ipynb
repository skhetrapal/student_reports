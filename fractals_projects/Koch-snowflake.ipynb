{
 "cells": [
  {
   "cell_type": "code",
   "execution_count": 1,
   "id": "0c5f31e4",
   "metadata": {},
   "outputs": [
    {
     "name": "stdout",
     "output_type": "stream",
     "text": [
      "/usr/bin/python3: No module named pip\n",
      "Note: you may need to restart the kernel to use updated packages.\n"
     ]
    }
   ],
   "source": [
    "pip install turtle"
   ]
  },
  {
   "cell_type": "code",
   "execution_count": 2,
   "id": "cd943fe3",
   "metadata": {},
   "outputs": [],
   "source": [
    "import turtle"
   ]
  },
  {
   "cell_type": "code",
   "execution_count": 3,
   "id": "fbc21dca",
   "metadata": {},
   "outputs": [],
   "source": [
    "# 1st order iteration koch snow-flake(equilateral triangle)\n",
    "import turtle\n",
    "def koch_snowflake(t, order, size):\n",
    "    if order == 0:\n",
    "        t.forward(size)\n",
    "    else:\n",
    "        for angle in [60, -120, 60, 0]:\n",
    "            koch_snowflake(t, order-1, size/3)\n",
    "            t.left(angle)\n",
    "def main():\n",
    "    t = turtle.Turtle()\n",
    "    t.speed(0)\n",
    "    t.penup()\n",
    "    t.goto(-100, 50)\n",
    "    t.pendown()\n",
    "    for i in range(3):\n",
    "        koch_snowflake(t, 0, 100)\n",
    "        t.right(120)\n",
    "    turtle.done()\n",
    "if __name__ == '__main__':\n",
    "    main()"
   ]
  },
  {
   "cell_type": "code",
   "execution_count": 5,
   "id": "a7e247b8",
   "metadata": {},
   "outputs": [],
   "source": [
    "# 2nd order iteration koch snow-flake\n",
    "#imports turtle library\n",
    "import turtle\n",
    "#define the Koch snowflake function with parameters\n",
    "def koch_snowflake(t, order, size):\n",
    "    if order == 0:\n",
    "        t.forward(size)\n",
    "    else:\n",
    "        for angle in [60, -120, 60, 0]:\n",
    "            koch_snowflake(t, order-1, size/3)\n",
    "            t.left(angle)\n",
    "#defines the main function with turtle library\n",
    "def main():\n",
    "    t = turtle.Turtle()\n",
    "#sets the turtle speed to 0(fastest speed)\n",
    "    t.speed(0)\n",
    "#penup & pendown moves the turtle object which draws the plot\n",
    "    t.penup()\n",
    "#sets the co-ordinates for the turtle\n",
    "    t.goto(-100, 50)\n",
    "    t.pendown()\n",
    "#loop repeats 3 times with the main function\n",
    "    for i in range(3):\n",
    "        koch_snowflake(t, 1, 100)\n",
    "        t.right(120)\n",
    "#completes the diagram \n",
    "    turtle.done()\n",
    "#ensures that main function runs when the script runs directly\n",
    "if __name__ == '__main__':\n",
    "    main()"
   ]
  },
  {
   "cell_type": "code",
   "execution_count": 7,
   "id": "8702b6ca",
   "metadata": {},
   "outputs": [],
   "source": [
    "# 3rd order iteration\n",
    "import turtle\n",
    "def koch_snowflake(t, order, size):\n",
    "    if order == 0:\n",
    "        t.forward(size)\n",
    "    else:\n",
    "        for angle in [60, -120, 60, 0]:\n",
    "            koch_snowflake(t, order-1, size/3)\n",
    "            t.left(angle)\n",
    "def main():\n",
    "    t = turtle.Turtle()\n",
    "    t.speed(0)\n",
    "    t.penup()\n",
    "    t.goto(-100, 100)\n",
    "    t.pendown()\n",
    "    for i in range(3):\n",
    "        koch_snowflake(t, 2, 100)\n",
    "        t.right(120)\n",
    "    turtle.done()\n",
    "if __name__ == '__main__':\n",
    "    main()"
   ]
  },
  {
   "cell_type": "code",
   "execution_count": 9,
   "id": "fbc7b063",
   "metadata": {},
   "outputs": [],
   "source": [
    "# 4th order iteration\n",
    "import turtle\n",
    "def koch_snowflake(t, order, size):\n",
    "    if order == 0:\n",
    "        t.forward(size)\n",
    "    else:\n",
    "        for angle in [60, -120, 60, 0]:\n",
    "            koch_snowflake(t, order-1, size/3)\n",
    "            t.left(angle)\n",
    "def main():\n",
    "    t = turtle.Turtle()\n",
    "    t.speed(0)\n",
    "    t.penup()\n",
    "    t.goto(-50, 100)\n",
    "    t.pendown()\n",
    "    for i in range(3):\n",
    "        koch_snowflake(t, 3, 200)\n",
    "        t.right(120)\n",
    "    turtle.done()\n",
    "if __name__ == '__main__':\n",
    "    main()"
   ]
  },
  {
   "cell_type": "code",
   "execution_count": 10,
   "id": "f4148c9e",
   "metadata": {},
   "outputs": [
    {
     "ename": "Terminator",
     "evalue": "",
     "output_type": "error",
     "traceback": [
      "\u001b[0;31m---------------------------------------------------------------------------\u001b[0m",
      "\u001b[0;31mTerminator\u001b[0m                                Traceback (most recent call last)",
      "\u001b[0;32m/tmp/ipykernel_879136/4212250229.py\u001b[0m in \u001b[0;36m<module>\u001b[0;34m\u001b[0m\n\u001b[1;32m     19\u001b[0m     \u001b[0mturtle\u001b[0m\u001b[0;34m.\u001b[0m\u001b[0mdone\u001b[0m\u001b[0;34m(\u001b[0m\u001b[0;34m)\u001b[0m\u001b[0;34m\u001b[0m\u001b[0;34m\u001b[0m\u001b[0m\n\u001b[1;32m     20\u001b[0m \u001b[0;32mif\u001b[0m \u001b[0m__name__\u001b[0m \u001b[0;34m==\u001b[0m \u001b[0;34m'__main__'\u001b[0m\u001b[0;34m:\u001b[0m\u001b[0;34m\u001b[0m\u001b[0;34m\u001b[0m\u001b[0m\n\u001b[0;32m---> 21\u001b[0;31m     \u001b[0mmain\u001b[0m\u001b[0;34m(\u001b[0m\u001b[0;34m)\u001b[0m\u001b[0;34m\u001b[0m\u001b[0;34m\u001b[0m\u001b[0m\n\u001b[0m",
      "\u001b[0;32m/tmp/ipykernel_879136/4212250229.py\u001b[0m in \u001b[0;36mmain\u001b[0;34m()\u001b[0m\n\u001b[1;32m      9\u001b[0m             \u001b[0mt\u001b[0m\u001b[0;34m.\u001b[0m\u001b[0mleft\u001b[0m\u001b[0;34m(\u001b[0m\u001b[0mangle\u001b[0m\u001b[0;34m)\u001b[0m\u001b[0;34m\u001b[0m\u001b[0;34m\u001b[0m\u001b[0m\n\u001b[1;32m     10\u001b[0m \u001b[0;32mdef\u001b[0m \u001b[0mmain\u001b[0m\u001b[0;34m(\u001b[0m\u001b[0;34m)\u001b[0m\u001b[0;34m:\u001b[0m\u001b[0;34m\u001b[0m\u001b[0;34m\u001b[0m\u001b[0m\n\u001b[0;32m---> 11\u001b[0;31m     \u001b[0mt\u001b[0m \u001b[0;34m=\u001b[0m \u001b[0mturtle\u001b[0m\u001b[0;34m.\u001b[0m\u001b[0mTurtle\u001b[0m\u001b[0;34m(\u001b[0m\u001b[0;34m)\u001b[0m\u001b[0;34m\u001b[0m\u001b[0;34m\u001b[0m\u001b[0m\n\u001b[0m\u001b[1;32m     12\u001b[0m     \u001b[0mt\u001b[0m\u001b[0;34m.\u001b[0m\u001b[0mspeed\u001b[0m\u001b[0;34m(\u001b[0m\u001b[0;36m0\u001b[0m\u001b[0;34m)\u001b[0m\u001b[0;34m\u001b[0m\u001b[0;34m\u001b[0m\u001b[0m\n\u001b[1;32m     13\u001b[0m     \u001b[0mt\u001b[0m\u001b[0;34m.\u001b[0m\u001b[0mpenup\u001b[0m\u001b[0;34m(\u001b[0m\u001b[0;34m)\u001b[0m\u001b[0;34m\u001b[0m\u001b[0;34m\u001b[0m\u001b[0m\n",
      "\u001b[0;32m/usr/lib/python3.10/turtle.py\u001b[0m in \u001b[0;36m__init__\u001b[0;34m(self, shape, undobuffersize, visible)\u001b[0m\n\u001b[1;32m   3813\u001b[0m         \u001b[0;32mif\u001b[0m \u001b[0mTurtle\u001b[0m\u001b[0;34m.\u001b[0m\u001b[0m_screen\u001b[0m \u001b[0;32mis\u001b[0m \u001b[0;32mNone\u001b[0m\u001b[0;34m:\u001b[0m\u001b[0;34m\u001b[0m\u001b[0;34m\u001b[0m\u001b[0m\n\u001b[1;32m   3814\u001b[0m             \u001b[0mTurtle\u001b[0m\u001b[0;34m.\u001b[0m\u001b[0m_screen\u001b[0m \u001b[0;34m=\u001b[0m \u001b[0mScreen\u001b[0m\u001b[0;34m(\u001b[0m\u001b[0;34m)\u001b[0m\u001b[0;34m\u001b[0m\u001b[0;34m\u001b[0m\u001b[0m\n\u001b[0;32m-> 3815\u001b[0;31m         RawTurtle.__init__(self, Turtle._screen,\n\u001b[0m\u001b[1;32m   3816\u001b[0m                            \u001b[0mshape\u001b[0m\u001b[0;34m=\u001b[0m\u001b[0mshape\u001b[0m\u001b[0;34m,\u001b[0m\u001b[0;34m\u001b[0m\u001b[0;34m\u001b[0m\u001b[0m\n\u001b[1;32m   3817\u001b[0m                            \u001b[0mundobuffersize\u001b[0m\u001b[0;34m=\u001b[0m\u001b[0mundobuffersize\u001b[0m\u001b[0;34m,\u001b[0m\u001b[0;34m\u001b[0m\u001b[0;34m\u001b[0m\u001b[0m\n",
      "\u001b[0;32m/usr/lib/python3.10/turtle.py\u001b[0m in \u001b[0;36m__init__\u001b[0;34m(self, canvas, shape, undobuffersize, visible)\u001b[0m\n\u001b[1;32m   2556\u001b[0m         \u001b[0mself\u001b[0m\u001b[0;34m.\u001b[0m\u001b[0m_undobuffersize\u001b[0m \u001b[0;34m=\u001b[0m \u001b[0mundobuffersize\u001b[0m\u001b[0;34m\u001b[0m\u001b[0;34m\u001b[0m\u001b[0m\n\u001b[1;32m   2557\u001b[0m         \u001b[0mself\u001b[0m\u001b[0;34m.\u001b[0m\u001b[0mundobuffer\u001b[0m \u001b[0;34m=\u001b[0m \u001b[0mTbuffer\u001b[0m\u001b[0;34m(\u001b[0m\u001b[0mundobuffersize\u001b[0m\u001b[0;34m)\u001b[0m\u001b[0;34m\u001b[0m\u001b[0;34m\u001b[0m\u001b[0m\n\u001b[0;32m-> 2558\u001b[0;31m         \u001b[0mself\u001b[0m\u001b[0;34m.\u001b[0m\u001b[0m_update\u001b[0m\u001b[0;34m(\u001b[0m\u001b[0;34m)\u001b[0m\u001b[0;34m\u001b[0m\u001b[0;34m\u001b[0m\u001b[0m\n\u001b[0m\u001b[1;32m   2559\u001b[0m \u001b[0;34m\u001b[0m\u001b[0m\n\u001b[1;32m   2560\u001b[0m     \u001b[0;32mdef\u001b[0m \u001b[0mreset\u001b[0m\u001b[0;34m(\u001b[0m\u001b[0mself\u001b[0m\u001b[0;34m)\u001b[0m\u001b[0;34m:\u001b[0m\u001b[0;34m\u001b[0m\u001b[0;34m\u001b[0m\u001b[0m\n",
      "\u001b[0;32m/usr/lib/python3.10/turtle.py\u001b[0m in \u001b[0;36m_update\u001b[0;34m(self)\u001b[0m\n\u001b[1;32m   2659\u001b[0m             \u001b[0;32mreturn\u001b[0m\u001b[0;34m\u001b[0m\u001b[0;34m\u001b[0m\u001b[0m\n\u001b[1;32m   2660\u001b[0m         \u001b[0;32melif\u001b[0m \u001b[0mscreen\u001b[0m\u001b[0;34m.\u001b[0m\u001b[0m_tracing\u001b[0m \u001b[0;34m==\u001b[0m \u001b[0;36m1\u001b[0m\u001b[0;34m:\u001b[0m\u001b[0;34m\u001b[0m\u001b[0;34m\u001b[0m\u001b[0m\n\u001b[0;32m-> 2661\u001b[0;31m             \u001b[0mself\u001b[0m\u001b[0;34m.\u001b[0m\u001b[0m_update_data\u001b[0m\u001b[0;34m(\u001b[0m\u001b[0;34m)\u001b[0m\u001b[0;34m\u001b[0m\u001b[0;34m\u001b[0m\u001b[0m\n\u001b[0m\u001b[1;32m   2662\u001b[0m             \u001b[0mself\u001b[0m\u001b[0;34m.\u001b[0m\u001b[0m_drawturtle\u001b[0m\u001b[0;34m(\u001b[0m\u001b[0;34m)\u001b[0m\u001b[0;34m\u001b[0m\u001b[0;34m\u001b[0m\u001b[0m\n\u001b[1;32m   2663\u001b[0m             \u001b[0mscreen\u001b[0m\u001b[0;34m.\u001b[0m\u001b[0m_update\u001b[0m\u001b[0;34m(\u001b[0m\u001b[0;34m)\u001b[0m                  \u001b[0;31m# TurtleScreenBase\u001b[0m\u001b[0;34m\u001b[0m\u001b[0;34m\u001b[0m\u001b[0m\n",
      "\u001b[0;32m/usr/lib/python3.10/turtle.py\u001b[0m in \u001b[0;36m_update_data\u001b[0;34m(self)\u001b[0m\n\u001b[1;32m   2645\u001b[0m \u001b[0;34m\u001b[0m\u001b[0m\n\u001b[1;32m   2646\u001b[0m     \u001b[0;32mdef\u001b[0m \u001b[0m_update_data\u001b[0m\u001b[0;34m(\u001b[0m\u001b[0mself\u001b[0m\u001b[0;34m)\u001b[0m\u001b[0;34m:\u001b[0m\u001b[0;34m\u001b[0m\u001b[0;34m\u001b[0m\u001b[0m\n\u001b[0;32m-> 2647\u001b[0;31m         \u001b[0mself\u001b[0m\u001b[0;34m.\u001b[0m\u001b[0mscreen\u001b[0m\u001b[0;34m.\u001b[0m\u001b[0m_incrementudc\u001b[0m\u001b[0;34m(\u001b[0m\u001b[0;34m)\u001b[0m\u001b[0;34m\u001b[0m\u001b[0;34m\u001b[0m\u001b[0m\n\u001b[0m\u001b[1;32m   2648\u001b[0m         \u001b[0;32mif\u001b[0m \u001b[0mself\u001b[0m\u001b[0;34m.\u001b[0m\u001b[0mscreen\u001b[0m\u001b[0;34m.\u001b[0m\u001b[0m_updatecounter\u001b[0m \u001b[0;34m!=\u001b[0m \u001b[0;36m0\u001b[0m\u001b[0;34m:\u001b[0m\u001b[0;34m\u001b[0m\u001b[0;34m\u001b[0m\u001b[0m\n\u001b[1;32m   2649\u001b[0m             \u001b[0;32mreturn\u001b[0m\u001b[0;34m\u001b[0m\u001b[0;34m\u001b[0m\u001b[0m\n",
      "\u001b[0;32m/usr/lib/python3.10/turtle.py\u001b[0m in \u001b[0;36m_incrementudc\u001b[0;34m(self)\u001b[0m\n\u001b[1;32m   1291\u001b[0m         \u001b[0;32mif\u001b[0m \u001b[0;32mnot\u001b[0m \u001b[0mTurtleScreen\u001b[0m\u001b[0;34m.\u001b[0m\u001b[0m_RUNNING\u001b[0m\u001b[0;34m:\u001b[0m\u001b[0;34m\u001b[0m\u001b[0;34m\u001b[0m\u001b[0m\n\u001b[1;32m   1292\u001b[0m             \u001b[0mTurtleScreen\u001b[0m\u001b[0;34m.\u001b[0m\u001b[0m_RUNNING\u001b[0m \u001b[0;34m=\u001b[0m \u001b[0;32mTrue\u001b[0m\u001b[0;34m\u001b[0m\u001b[0;34m\u001b[0m\u001b[0m\n\u001b[0;32m-> 1293\u001b[0;31m             \u001b[0;32mraise\u001b[0m \u001b[0mTerminator\u001b[0m\u001b[0;34m\u001b[0m\u001b[0;34m\u001b[0m\u001b[0m\n\u001b[0m\u001b[1;32m   1294\u001b[0m         \u001b[0;32mif\u001b[0m \u001b[0mself\u001b[0m\u001b[0;34m.\u001b[0m\u001b[0m_tracing\u001b[0m \u001b[0;34m>\u001b[0m \u001b[0;36m0\u001b[0m\u001b[0;34m:\u001b[0m\u001b[0;34m\u001b[0m\u001b[0;34m\u001b[0m\u001b[0m\n\u001b[1;32m   1295\u001b[0m             \u001b[0mself\u001b[0m\u001b[0;34m.\u001b[0m\u001b[0m_updatecounter\u001b[0m \u001b[0;34m+=\u001b[0m \u001b[0;36m1\u001b[0m\u001b[0;34m\u001b[0m\u001b[0;34m\u001b[0m\u001b[0m\n",
      "\u001b[0;31mTerminator\u001b[0m: "
     ]
    }
   ],
   "source": [
    "# 5th order iteration\n",
    "import turtle\n",
    "def koch_snowflake(t, order, size):\n",
    "    if order == 0:\n",
    "        t.forward(size)\n",
    "    else:\n",
    "        for angle in [60, -120, 60, 0]:\n",
    "            koch_snowflake(t, order-1, size/3)\n",
    "            t.left(angle)\n",
    "def main():\n",
    "    t = turtle.Turtle()\n",
    "    t.speed(0)\n",
    "    t.penup()\n",
    "    t.goto(-100, 50)\n",
    "    t.pendown()\n",
    "    for i in range(3):\n",
    "        koch_snowflake(t, 4, 200)\n",
    "        t.right(120)\n",
    "    turtle.done()\n",
    "if __name__ == '__main__':\n",
    "    main()"
   ]
  },
  {
   "cell_type": "code",
   "execution_count": null,
   "id": "6557d79c",
   "metadata": {},
   "outputs": [],
   "source": [
    "# 6th order iteration\n",
    "import turtle\n",
    "def koch_snowflake(t, order, size):\n",
    "    if order == 0:\n",
    "        t.forward(size)\n",
    "    else:\n",
    "        for angle in [60, -120, 60, 0]:\n",
    "            koch_snowflake(t, order-1, size/3)\n",
    "            t.left(angle)\n",
    "def main():\n",
    "    t = turtle.Turtle()\n",
    "    t.speed(0)\n",
    "    t.penup()\n",
    "    t.goto(-200, 100)\n",
    "    t.pendown()\n",
    "    for i in range(3):\n",
    "        koch_snowflake(t, 5, 200)\n",
    "        t.right(120)\n",
    "    turtle.done()\n",
    "if __name__ == '__main__':\n",
    "    main()"
   ]
  },
  {
   "cell_type": "code",
   "execution_count": null,
   "id": "333e1af3",
   "metadata": {},
   "outputs": [],
   "source": [
    "#7th iteration\n",
    "import turtle\n",
    "def koch_snowflake(t, order, size):\n",
    "    if order == 0:\n",
    "        t.forward(size)\n",
    "    else:\n",
    "        for angle in [60, -120, 60, 0]:\n",
    "            koch_snowflake(t, order-1, size/3)\n",
    "            t.left(angle)\n",
    "def main():\n",
    "    t = turtle.Turtle()\n",
    "    t.speed(0)\n",
    "    t.penup()\n",
    "    t.goto(-200, 100)\n",
    "    t.pendown()\n",
    "    for i in range(3):\n",
    "        koch_snowflake(t, 6, 400)\n",
    "        t.right(120)\n",
    "    turtle.done()\n",
    "if __name__ == '__main__':\n",
    "    main()"
   ]
  },
  {
   "cell_type": "code",
   "execution_count": null,
   "id": "1e3d15b7",
   "metadata": {},
   "outputs": [],
   "source": [
    "# colour edition of koch snowflake\n",
    "import turtle\n",
    "\n",
    "def koch_curve(turtle, order, length, color1, color2):\n",
    "    if order == 0:\n",
    "        turtle.color(color1)\n",
    "        turtle.forward(length)\n",
    "    else:\n",
    "        for angle in [60, -120, 60, 0]:\n",
    "            koch_curve(turtle, order-1, length/3, color1, color2)\n",
    "            turtle.left(angle)\n",
    "            # Alternate between two colors\n",
    "            if angle == 0:\n",
    "                turtle.color(color2)\n",
    "            else:\n",
    "                turtle.color(color1)\n",
    "def koch_snowflake(turtle, order, length, color1, color2):\n",
    "    for i in range(3):\n",
    "        koch_curve(turtle, order, length, color1, color2)\n",
    "        turtle.right(120)\n",
    "window = turtle.Screen()\n",
    "window.bgcolor(\"violet\")\n",
    "window.title(\"Koch Snowflake\")\n",
    "snowflake = turtle.Turtle()\n",
    "snowflake.speed(0)\n",
    "snowflake.penup()\n",
    "snowflake.goto(-200, 0)\n",
    "snowflake.pendown()\n",
    "koch_snowflake(snowflake, 4, 400, \"blue\", \"green\")\n",
    "window.exitonclick()"
   ]
  },
  {
   "cell_type": "code",
   "execution_count": null,
   "id": "5a807a85",
   "metadata": {},
   "outputs": [],
   "source": []
  }
 ],
 "metadata": {
  "kernelspec": {
   "display_name": "Python 3 (ipykernel)",
   "language": "python",
   "name": "python3"
  },
  "language_info": {
   "codemirror_mode": {
    "name": "ipython",
    "version": 3
   },
   "file_extension": ".py",
   "mimetype": "text/x-python",
   "name": "python",
   "nbconvert_exporter": "python",
   "pygments_lexer": "ipython3",
   "version": "3.10.6"
  }
 },
 "nbformat": 4,
 "nbformat_minor": 5
}
