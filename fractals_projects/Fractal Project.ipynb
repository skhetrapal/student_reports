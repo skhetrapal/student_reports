{
 "cells": [
  {
   "cell_type": "code",
   "execution_count": null,
   "id": "e623c059",
   "metadata": {},
   "outputs": [],
   "source": [
    "#Sierpinski Carpet\n",
    "# importing necessary modules                      \n",
    "import numpy as np\n",
    "from PIL import Image\n",
    "  \n",
    "# total number of times the process will be repeated\n",
    "total = 7\n",
    "  \n",
    "# size of the image\n",
    "size = 3**total\n",
    "  \n",
    "# creating an image\n",
    "square = np.empty([size, size, 3], dtype = np.uint8)\n",
    "color = np.array([255, 255, 255], dtype = np.uint8)\n",
    "  \n",
    "# filling it black\n",
    "square.fill(0)\n",
    "  \n",
    "for i in range(0,total-2):\n",
    "    stepdown = 3**(total - i)\n",
    "    for x in range(0, 3**i):\n",
    "          \n",
    "        # checking for the centremost square\n",
    "        if x % 3 == 1:\n",
    "            for y in range(0, 3**i):\n",
    "                if y % 3 == 1:\n",
    "                      \n",
    "                    # changing its color\n",
    "                    square[y * stepdown:(y + 1)*stepdown, x * stepdown:(x + 1)*stepdown] = color\n",
    "  \n",
    "# saving the image produced\n",
    "save_file = \"sierpinski.jpg\"\n",
    "Image.fromarray(square).save(save_file)\n",
    "  \n",
    "# displaying it in console\n",
    "i = Image.open(\"sierpinski.jpg\")\n",
    "i.show()"
   ]
  },
  {
   "cell_type": "code",
   "execution_count": null,
   "id": "aef7a38e",
   "metadata": {},
   "outputs": [],
   "source": [
    "import turtle\n",
    "\n",
    "def draw_sierpinski(length, depth):\n",
    "    if depth == 0:\n",
    "        # draw a triangle\n",
    "        for i in range(3):\n",
    "            turtle.forward(length)\n",
    "            turtle.left(120)\n",
    "    else:\n",
    "        # recursively draw 3 smaller triangles\n",
    "        draw_sierpinski(length / 2, depth - 1)\n",
    "        turtle.forward(length / 2)\n",
    "        draw_sierpinski(length / 2, depth - 1)\n",
    "        turtle.backward(length / 2)\n",
    "        turtle.left(60)\n",
    "        turtle.forward(length / 2)\n",
    "        turtle.right(60)\n",
    "        draw_sierpinski(length / 2, depth - 1)\n",
    "        turtle.left(60)\n",
    "        turtle.backward(length / 2)\n",
    "        turtle.right(60)\n",
    "\n",
    "# set up the turtle\n",
    "turtle.speed(0)\n",
    "turtle.penup()\n",
    "turtle.goto(-200, -200)\n",
    "turtle.pendown()\n",
    "\n",
    "# draw the Sierpinski Triangle\n",
    "draw_sierpinski(400, 3)\n",
    "\n",
    "# exit on click\n",
    "turtle.exitonclick()"
   ]
  },
  {
   "cell_type": "code",
   "execution_count": null,
   "id": "3f4e7c18",
   "metadata": {},
   "outputs": [],
   "source": []
  },
  {
   "cell_type": "code",
   "execution_count": null,
   "id": "1566faa3",
   "metadata": {},
   "outputs": [],
   "source": []
  },
  {
   "cell_type": "code",
   "execution_count": null,
   "id": "d01dcc18",
   "metadata": {},
   "outputs": [],
   "source": []
  }
 ],
 "metadata": {
  "kernelspec": {
   "display_name": "Python 3 (ipykernel)",
   "language": "python",
   "name": "python3"
  },
  "language_info": {
   "codemirror_mode": {
    "name": "ipython",
    "version": 3
   },
   "file_extension": ".py",
   "mimetype": "text/x-python",
   "name": "python",
   "nbconvert_exporter": "python",
   "pygments_lexer": "ipython3",
   "version": "3.9.13"
  }
 },
 "nbformat": 4,
 "nbformat_minor": 5
}
